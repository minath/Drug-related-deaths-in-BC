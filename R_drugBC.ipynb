{
  "nbformat": 4,
  "nbformat_minor": 0,
  "metadata": {
    "colab": {
      "name": "R_drugBC.ipynb",
      "provenance": [],
      "collapsed_sections": [],
      "authorship_tag": "ABX9TyNrv71hlfrGGvFUqMJpFNaU",
      "include_colab_link": true
    },
    "kernelspec": {
      "name": "ir",
      "display_name": "R"
    },
    "language_info": {
      "name": "R"
    }
  },
  "cells": [
    {
      "cell_type": "markdown",
      "metadata": {
        "id": "view-in-github",
        "colab_type": "text"
      },
      "source": [
        "<a href=\"https://colab.research.google.com/github/minath/drug/blob/main/R_drugBC.ipynb\" target=\"_parent\"><img src=\"https://colab.research.google.com/assets/colab-badge.svg\" alt=\"Open In Colab\"/></a>"
      ]
    },
    {
      "cell_type": "code",
      "execution_count": null,
      "metadata": {
        "id": "qTccNONUbnfC"
      },
      "outputs": [],
      "source": [
        "# this NB uses R runtime\n",
        "# load private data set from Github using R\n",
        "url=\"https://raw.githubusercontent.com/minath/drug/main/BCdrugtype.csv?token=GHSAT0AAAAAABRZXBJBQEE5PWNWF77P3Y44YQ7TJMA\"\n",
        "bcdrug <- read.csv(url)\n",
        "url1 = \"https://raw.githubusercontent.com/minath/drug/main/finaldrug.csv?token=GHSAT0AAAAAABRZXBJA2G5UW4FJNS4A3DL6YQ7TOKA\"\n",
        "drug<- read.csv(url1)"
      ]
    },
    {
      "cell_type": "markdown",
      "source": [
        "Below we visuliazed drug type in Baltimore city"
      ],
      "metadata": {
        "id": "XchhkBAmfYl-"
      }
    },
    {
      "cell_type": "code",
      "source": [
        "#data exploration\n",
        "View(bcdrug)\n",
        "# Data size\n",
        "dim (bcdrug)\n",
        "ncol(bcdrug)"
      ],
      "metadata": {
        "id": "vcxB0yk-b3ad"
      },
      "execution_count": null,
      "outputs": []
    },
    {
      "cell_type": "code",
      "source": [
        "#List variable names and row labels\n",
        "attributes(bcdrug)\n",
        "#Display the variable names and their data types for all variables\n",
        "sapply(bcdrug, class)"
      ],
      "metadata": {
        "id": "lj3SxcRwcgP8"
      },
      "execution_count": null,
      "outputs": []
    },
    {
      "cell_type": "code",
      "source": [
        "#Data visualization\n",
        "#pie Chart\n",
        "pie(table(bcdrug$drug))\n"
      ],
      "metadata": {
        "id": "R2_AvT6VdHxL"
      },
      "execution_count": null,
      "outputs": []
    },
    {
      "cell_type": "code",
      "source": [
        "# scatter plot\n",
        "plot(bcdrug$year, bcdrug$death)\n"
      ],
      "metadata": {
        "id": "EcspMlpedlO1"
      },
      "execution_count": null,
      "outputs": []
    },
    {
      "cell_type": "code",
      "source": [
        "#bar plot\n",
        "barplot(table(bcdrug$death))\n"
      ],
      "metadata": {
        "id": "ixiOHldRd8Sb"
      },
      "execution_count": null,
      "outputs": []
    },
    {
      "cell_type": "code",
      "source": [
        "#histogram\n",
        "hist(bcdrug$death)\n"
      ],
      "metadata": {
        "id": "WEYYaCJheHfv"
      },
      "execution_count": null,
      "outputs": []
    },
    {
      "cell_type": "code",
      "source": [
        "#density plot \n",
        "plot(density(bcdrug$death))\n"
      ],
      "metadata": {
        "id": "TKtQ47u2eJ2j"
      },
      "execution_count": null,
      "outputs": []
    }
  ]
}